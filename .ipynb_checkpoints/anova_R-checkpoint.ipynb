{
 "cells": [
  {
   "cell_type": "markdown",
   "id": "90434366",
   "metadata": {},
   "source": [
    "#                     Tek Yönlü Varyans (Anova) Çözümlemesi "
   ]
  },
  {
   "cell_type": "markdown",
   "id": "cc55cf0c",
   "metadata": {},
   "source": [
    "### Bir okulun futbol - beyzbol ile ilgilenen ve sporcu olmayan öğrencilerinin aldığı ACT puanlar bakımından öğrencilerin ilgilendikleri spor dallarına göre bir farklılık olup olmadığı test edilecektir. Öğrencilerin aldıkları puanlar bakımından fark olup olmadığı tek yönlü varyans analizi ile testedilir. Tek yönlü varyans analizinden önce “Normallik Varsayımı” ve “Varyans Homojenliği Varsayımları” da test edilmelidir.\n"
   ]
  },
  {
   "cell_type": "markdown",
   "id": "f44ff175",
   "metadata": {},
   "source": [
    "#### Öğrencilerin aldıkları puanlar ile bir dataframe oluşturuyoruz."
   ]
  },
  {
   "cell_type": "code",
   "execution_count": 1,
   "id": "cc166163",
   "metadata": {},
   "outputs": [],
   "source": [
    "beyzbol <- c(25,22,20,25,24,25,24,23)\n",
    "futbol <- c(21,27,29,26,30,27,26,23)\n",
    "sporcudegil <- c(22,21,24,27,19,23,17)"
   ]
  },
  {
   "cell_type": "code",
   "execution_count": 2,
   "id": "ebcb206d",
   "metadata": {},
   "outputs": [],
   "source": [
    "act <- c(beyzbol,futbol,sporcudegil)"
   ]
  },
  {
   "cell_type": "code",
   "execution_count": 3,
   "id": "11c05aff",
   "metadata": {},
   "outputs": [],
   "source": [
    "spor <- c(rep(\"beyzbol\",8),rep(\"futbol\",8),rep(\"sporcudegil\",7))"
   ]
  },
  {
   "cell_type": "code",
   "execution_count": 4,
   "id": "14e0db85",
   "metadata": {},
   "outputs": [],
   "source": [
    "df <- data.frame(spor,act)"
   ]
  },
  {
   "cell_type": "code",
   "execution_count": 5,
   "id": "8d618dca",
   "metadata": {
    "scrolled": true
   },
   "outputs": [
    {
     "data": {
      "text/html": [
       "<table class=\"dataframe\">\n",
       "<caption>A data.frame: 23 × 2</caption>\n",
       "<thead>\n",
       "\t<tr><th scope=col>spor</th><th scope=col>act</th></tr>\n",
       "\t<tr><th scope=col>&lt;chr&gt;</th><th scope=col>&lt;dbl&gt;</th></tr>\n",
       "</thead>\n",
       "<tbody>\n",
       "\t<tr><td>beyzbol    </td><td>25</td></tr>\n",
       "\t<tr><td>beyzbol    </td><td>22</td></tr>\n",
       "\t<tr><td>beyzbol    </td><td>20</td></tr>\n",
       "\t<tr><td>beyzbol    </td><td>25</td></tr>\n",
       "\t<tr><td>beyzbol    </td><td>24</td></tr>\n",
       "\t<tr><td>beyzbol    </td><td>25</td></tr>\n",
       "\t<tr><td>beyzbol    </td><td>24</td></tr>\n",
       "\t<tr><td>beyzbol    </td><td>23</td></tr>\n",
       "\t<tr><td>futbol     </td><td>21</td></tr>\n",
       "\t<tr><td>futbol     </td><td>27</td></tr>\n",
       "\t<tr><td>futbol     </td><td>29</td></tr>\n",
       "\t<tr><td>futbol     </td><td>26</td></tr>\n",
       "\t<tr><td>futbol     </td><td>30</td></tr>\n",
       "\t<tr><td>futbol     </td><td>27</td></tr>\n",
       "\t<tr><td>futbol     </td><td>26</td></tr>\n",
       "\t<tr><td>futbol     </td><td>23</td></tr>\n",
       "\t<tr><td>sporcudegil</td><td>22</td></tr>\n",
       "\t<tr><td>sporcudegil</td><td>21</td></tr>\n",
       "\t<tr><td>sporcudegil</td><td>24</td></tr>\n",
       "\t<tr><td>sporcudegil</td><td>27</td></tr>\n",
       "\t<tr><td>sporcudegil</td><td>19</td></tr>\n",
       "\t<tr><td>sporcudegil</td><td>23</td></tr>\n",
       "\t<tr><td>sporcudegil</td><td>17</td></tr>\n",
       "</tbody>\n",
       "</table>\n"
      ],
      "text/latex": [
       "A data.frame: 23 × 2\n",
       "\\begin{tabular}{ll}\n",
       " spor & act\\\\\n",
       " <chr> & <dbl>\\\\\n",
       "\\hline\n",
       "\t beyzbol     & 25\\\\\n",
       "\t beyzbol     & 22\\\\\n",
       "\t beyzbol     & 20\\\\\n",
       "\t beyzbol     & 25\\\\\n",
       "\t beyzbol     & 24\\\\\n",
       "\t beyzbol     & 25\\\\\n",
       "\t beyzbol     & 24\\\\\n",
       "\t beyzbol     & 23\\\\\n",
       "\t futbol      & 21\\\\\n",
       "\t futbol      & 27\\\\\n",
       "\t futbol      & 29\\\\\n",
       "\t futbol      & 26\\\\\n",
       "\t futbol      & 30\\\\\n",
       "\t futbol      & 27\\\\\n",
       "\t futbol      & 26\\\\\n",
       "\t futbol      & 23\\\\\n",
       "\t sporcudegil & 22\\\\\n",
       "\t sporcudegil & 21\\\\\n",
       "\t sporcudegil & 24\\\\\n",
       "\t sporcudegil & 27\\\\\n",
       "\t sporcudegil & 19\\\\\n",
       "\t sporcudegil & 23\\\\\n",
       "\t sporcudegil & 17\\\\\n",
       "\\end{tabular}\n"
      ],
      "text/markdown": [
       "\n",
       "A data.frame: 23 × 2\n",
       "\n",
       "| spor &lt;chr&gt; | act &lt;dbl&gt; |\n",
       "|---|---|\n",
       "| beyzbol     | 25 |\n",
       "| beyzbol     | 22 |\n",
       "| beyzbol     | 20 |\n",
       "| beyzbol     | 25 |\n",
       "| beyzbol     | 24 |\n",
       "| beyzbol     | 25 |\n",
       "| beyzbol     | 24 |\n",
       "| beyzbol     | 23 |\n",
       "| futbol      | 21 |\n",
       "| futbol      | 27 |\n",
       "| futbol      | 29 |\n",
       "| futbol      | 26 |\n",
       "| futbol      | 30 |\n",
       "| futbol      | 27 |\n",
       "| futbol      | 26 |\n",
       "| futbol      | 23 |\n",
       "| sporcudegil | 22 |\n",
       "| sporcudegil | 21 |\n",
       "| sporcudegil | 24 |\n",
       "| sporcudegil | 27 |\n",
       "| sporcudegil | 19 |\n",
       "| sporcudegil | 23 |\n",
       "| sporcudegil | 17 |\n",
       "\n"
      ],
      "text/plain": [
       "   spor        act\n",
       "1  beyzbol     25 \n",
       "2  beyzbol     22 \n",
       "3  beyzbol     20 \n",
       "4  beyzbol     25 \n",
       "5  beyzbol     24 \n",
       "6  beyzbol     25 \n",
       "7  beyzbol     24 \n",
       "8  beyzbol     23 \n",
       "9  futbol      21 \n",
       "10 futbol      27 \n",
       "11 futbol      29 \n",
       "12 futbol      26 \n",
       "13 futbol      30 \n",
       "14 futbol      27 \n",
       "15 futbol      26 \n",
       "16 futbol      23 \n",
       "17 sporcudegil 22 \n",
       "18 sporcudegil 21 \n",
       "19 sporcudegil 24 \n",
       "20 sporcudegil 27 \n",
       "21 sporcudegil 19 \n",
       "22 sporcudegil 23 \n",
       "23 sporcudegil 17 "
      ]
     },
     "metadata": {},
     "output_type": "display_data"
    }
   ],
   "source": [
    "df"
   ]
  },
  {
   "cell_type": "markdown",
   "id": "a2a16023",
   "metadata": {},
   "source": [
    "    "
   ]
  },
  {
   "cell_type": "markdown",
   "id": "1eac56f4",
   "metadata": {},
   "source": [
    "### Normallik  Varsayımının Test Edilmesi"
   ]
  },
  {
   "cell_type": "markdown",
   "id": "69c1f529",
   "metadata": {},
   "source": [
    "#### Normallik Varsayımı Testi öğrencilerin aldıkları ACT puanlarının dağılımı ile Normal Dağılım arasında fark olup olmadığını incelememizi sağlayacaktır. "
   ]
  },
  {
   "cell_type": "markdown",
   "id": "8234d66f",
   "metadata": {},
   "source": [
    "\n",
    "#### H0 : Öğrencilerin ACT puanlarının dağılımı ile normal dağılım arasında fark yoktur.\n",
    "#### HS : Öğrencilerin ACT puanlarının dağılımı ile normal dağılım arasında fark vardır."
   ]
  },
  {
   "cell_type": "markdown",
   "id": "5bd8e555",
   "metadata": {},
   "source": [
    "    "
   ]
  },
  {
   "cell_type": "code",
   "execution_count": 6,
   "id": "c585d525",
   "metadata": {},
   "outputs": [
    {
     "data": {
      "text/plain": [
       "\n",
       "\tShapiro-Wilk normality test\n",
       "\n",
       "data:  beyzbol\n",
       "W = 0.85003, p-value = 0.09534\n"
      ]
     },
     "metadata": {},
     "output_type": "display_data"
    }
   ],
   "source": [
    "shapiro.test(beyzbol)"
   ]
  },
  {
   "cell_type": "code",
   "execution_count": 7,
   "id": "c4c203af",
   "metadata": {},
   "outputs": [
    {
     "data": {
      "text/plain": [
       "\n",
       "\tShapiro-Wilk normality test\n",
       "\n",
       "data:  futbol\n",
       "W = 0.94259, p-value = 0.6367\n"
      ]
     },
     "metadata": {},
     "output_type": "display_data"
    }
   ],
   "source": [
    "shapiro.test(futbol)"
   ]
  },
  {
   "cell_type": "code",
   "execution_count": 8,
   "id": "a582410f",
   "metadata": {
    "scrolled": true
   },
   "outputs": [
    {
     "data": {
      "text/plain": [
       "\n",
       "\tShapiro-Wilk normality test\n",
       "\n",
       "data:  sporcudegil\n",
       "W = 0.99381, p-value = 0.9982\n"
      ]
     },
     "metadata": {},
     "output_type": "display_data"
    }
   ],
   "source": [
    "shapiro.test(sporcudegil)"
   ]
  },
  {
   "cell_type": "markdown",
   "id": "4585bbdb",
   "metadata": {},
   "source": [
    "    "
   ]
  },
  {
   "cell_type": "markdown",
   "id": "a82adc56",
   "metadata": {},
   "source": [
    "#### Her bir gözlem değerinin 50'den küçük olması sebebiyle Shapiro-Wilk testi sonucuna bakılır. Alınan sonuçlara bakıldığında her bir spor dalına ait sonuçlar Beyzbol: 0.095, Futbol: 0.636, Sporcu olmayanlar: 0.998 olarak hesaplanmıştır.\n",
    "\n",
    "#### Her bir spora ait p değeri a=0.05 değerinden büyük olduğu için H0 hipotezi reddedilemez.Öğrencilerin aldıkları ACT puanlarının %5 anlamlılık düzeyinde normallik sağladığı söylenebilir."
   ]
  },
  {
   "cell_type": "markdown",
   "id": "653c5000",
   "metadata": {},
   "source": [
    "    "
   ]
  },
  {
   "cell_type": "markdown",
   "id": "05f01b62",
   "metadata": {},
   "source": [
    "    "
   ]
  },
  {
   "cell_type": "markdown",
   "id": "0ba40365",
   "metadata": {},
   "source": [
    "### Varyansların Homojenliği Varsayımının Test Edilmesi"
   ]
  },
  {
   "cell_type": "code",
   "execution_count": 9,
   "id": "77eba639",
   "metadata": {},
   "outputs": [
    {
     "name": "stderr",
     "output_type": "stream",
     "text": [
      "Zorunlu paket yükleniyor: carData\n",
      "\n",
      "Warning message:\n",
      "\"package 'carData' was built under R version 4.1.3\"\n"
     ]
    }
   ],
   "source": [
    "# library(car) kütüphanesi import edilerek leveneTest uygulanır. Paketi yüklemek için: install.packages(\"car\") kodu çalıştırılmalıdır.\n",
    "library(car)"
   ]
  },
  {
   "cell_type": "code",
   "execution_count": 10,
   "id": "d739e46d",
   "metadata": {
    "scrolled": true
   },
   "outputs": [
    {
     "name": "stderr",
     "output_type": "stream",
     "text": [
      "Warning message in leveneTest.default(y = y, group = group, ...):\n",
      "\"group coerced to factor.\"\n"
     ]
    },
    {
     "data": {
      "text/html": [
       "<table class=\"dataframe\">\n",
       "<caption>A anova: 2 × 3</caption>\n",
       "<thead>\n",
       "\t<tr><th></th><th scope=col>Df</th><th scope=col>F value</th><th scope=col>Pr(&gt;F)</th></tr>\n",
       "\t<tr><th></th><th scope=col>&lt;int&gt;</th><th scope=col>&lt;dbl&gt;</th><th scope=col>&lt;dbl&gt;</th></tr>\n",
       "</thead>\n",
       "<tbody>\n",
       "\t<tr><th scope=row>group</th><td> 2</td><td>0.8493883</td><td>0.4425348</td></tr>\n",
       "\t<tr><th scope=row> </th><td>20</td><td>       NA</td><td>       NA</td></tr>\n",
       "</tbody>\n",
       "</table>\n"
      ],
      "text/latex": [
       "A anova: 2 × 3\n",
       "\\begin{tabular}{r|lll}\n",
       "  & Df & F value & Pr(>F)\\\\\n",
       "  & <int> & <dbl> & <dbl>\\\\\n",
       "\\hline\n",
       "\tgroup &  2 & 0.8493883 & 0.4425348\\\\\n",
       "\t  & 20 &        NA &        NA\\\\\n",
       "\\end{tabular}\n"
      ],
      "text/markdown": [
       "\n",
       "A anova: 2 × 3\n",
       "\n",
       "| <!--/--> | Df &lt;int&gt; | F value &lt;dbl&gt; | Pr(&gt;F) &lt;dbl&gt; |\n",
       "|---|---|---|---|\n",
       "| group |  2 | 0.8493883 | 0.4425348 |\n",
       "| <!----> | 20 |        NA |        NA |\n",
       "\n"
      ],
      "text/plain": [
       "      Df F value   Pr(>F)   \n",
       "group  2 0.8493883 0.4425348\n",
       "      20        NA        NA"
      ]
     },
     "metadata": {},
     "output_type": "display_data"
    }
   ],
   "source": [
    "leveneTest(act ~ spor,df,center = \"mean\")"
   ]
  },
  {
   "cell_type": "markdown",
   "id": "85432991",
   "metadata": {},
   "source": [
    "    "
   ]
  },
  {
   "cell_type": "markdown",
   "id": "1c6a3f88",
   "metadata": {},
   "source": [
    "#### Levene Testi'nde p değeri 0.58 olarak hesaplanmış olup a=0.05 anlamlılık düzeyinden büyük olduğu için,\n",
    "\n",
    "#### F tablo değeri karşılaştırılacak olduğunda F(0.05,2,20) = 3.49 olup Levene İstatistik =0.560 değerinden büyük olduğu için,\n",
    "#### Spor dallarına göre %5 anlamlılık düzeyinde grup varyanslarının homojenliği varsayımını sağladığını söyleyebiliriz."
   ]
  },
  {
   "cell_type": "markdown",
   "id": "0b09634f",
   "metadata": {},
   "source": [
    "    "
   ]
  },
  {
   "cell_type": "markdown",
   "id": "fa3b2f96",
   "metadata": {},
   "source": [
    "    "
   ]
  },
  {
   "cell_type": "markdown",
   "id": "716120ad",
   "metadata": {},
   "source": [
    "    "
   ]
  },
  {
   "cell_type": "code",
   "execution_count": 11,
   "id": "0212d214",
   "metadata": {},
   "outputs": [
    {
     "data": {
      "text/plain": [
       "\n",
       "\tOne-way analysis of means\n",
       "\n",
       "data:  act and spor\n",
       "F = 4.7447, num df = 2, denom df = 20, p-value = 0.02059\n"
      ]
     },
     "metadata": {},
     "output_type": "display_data"
    }
   ],
   "source": [
    "oneway.test(act ~ spor, df, var.equal = T)"
   ]
  },
  {
   "cell_type": "code",
   "execution_count": 12,
   "id": "6ce9f6e1",
   "metadata": {},
   "outputs": [
    {
     "data": {
      "text/plain": [
       "  Tukey multiple comparisons of means\n",
       "    95% family-wise confidence level\n",
       "\n",
       "Fit: aov(formula = act ~ spor, data = df)\n",
       "\n",
       "$spor\n",
       "                         diff        lwr       upr     p adj\n",
       "futbol-beyzbol       2.625000 -0.8130319  6.063032 0.1558163\n",
       "sporcudegil-beyzbol -1.642857 -5.2015583  1.915844 0.4852390\n",
       "sporcudegil-futbol  -4.267857 -7.8265583 -0.709156 0.0172275\n"
      ]
     },
     "metadata": {},
     "output_type": "display_data"
    }
   ],
   "source": [
    "TukeyHSD(aov(act~spor,df), conf.level = 0.95)"
   ]
  },
  {
   "cell_type": "code",
   "execution_count": 13,
   "id": "0f97b411",
   "metadata": {
    "scrolled": true
   },
   "outputs": [
    {
     "name": "stdout",
     "output_type": "stream",
     "text": [
      "[1] 23.5\n",
      "[1] 26.125\n",
      "[1] 21.85714\n"
     ]
    }
   ],
   "source": [
    "print(mean(beyzbol))\n",
    "print(mean(futbol))\n",
    "print(mean(sporcudegil))"
   ]
  },
  {
   "cell_type": "markdown",
   "id": "1ba45cbe",
   "metadata": {},
   "source": [
    "#### Öğrencilerin aldıkları notlar ilişkilendirildiğinde fark yaratan spor bölümü futboldur ve bu gruba ait öğrencilerin ACT puanları daha yüksek kabul edilir"
   ]
  },
  {
   "cell_type": "markdown",
   "id": "e8e14614",
   "metadata": {},
   "source": [
    "    "
   ]
  },
  {
   "cell_type": "markdown",
   "id": "afd6f04f",
   "metadata": {},
   "source": [
    "    "
   ]
  },
  {
   "cell_type": "markdown",
   "id": "f81995f2",
   "metadata": {},
   "source": [
    "    "
   ]
  },
  {
   "cell_type": "code",
   "execution_count": 14,
   "id": "84a72e94",
   "metadata": {},
   "outputs": [],
   "source": [
    "# R üzerinde oluşturulan dataframei kullanma amaçlı csv içerisine aktarıldı\n",
    "write.csv(df, \"C:/Users/Asus/Desktop/hypothesis/data.csv\", row.names=FALSE)"
   ]
  }
 ],
 "metadata": {
  "kernelspec": {
   "display_name": "R",
   "language": "R",
   "name": "ir"
  },
  "language_info": {
   "codemirror_mode": "r",
   "file_extension": ".r",
   "mimetype": "text/x-r-source",
   "name": "R",
   "pygments_lexer": "r",
   "version": "4.1.2"
  }
 },
 "nbformat": 4,
 "nbformat_minor": 5
}
